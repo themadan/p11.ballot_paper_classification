{
  "nbformat": 4,
  "nbformat_minor": 0,
  "metadata": {
    "colab": {
      "name": "Ballot_paper_classification",
      "provenance": [],
      "collapsed_sections": []
    },
    "kernelspec": {
      "name": "python3",
      "display_name": "Python 3"
    },
    "accelerator": "GPU"
  },
  "cells": [
    {
      "cell_type": "markdown",
      "metadata": {
        "id": "Yi40znr_o3Ce",
        "colab_type": "text"
      },
      "source": [
        "# Import tensorflow libraries"
      ]
    },
    {
      "cell_type": "code",
      "metadata": {
        "id": "4H6_rkLutKkB",
        "colab_type": "code",
        "colab": {}
      },
      "source": [
        "from tensorflow.keras.preprocessing.image import ImageDataGenerator \n",
        "from tensorflow.keras.models import Sequential \n",
        "from tensorflow.keras.layers import GlobalAveragePooling2D\n",
        "from tensorflow.keras.layers import Activation, Dropout, Flatten, Dense \n",
        "from tensorflow.keras import backend as K \n",
        "from tensorflow.keras.applications import MobileNetV2\n",
        "from tensorflow.keras.models import Model"
      ],
      "execution_count": 0,
      "outputs": []
    },
    {
      "cell_type": "code",
      "metadata": {
        "id": "7qxv_AOuq02E",
        "colab_type": "code",
        "colab": {}
      },
      "source": [
        "import pandas as pd\n",
        "import matplotlib.pyplot as plt\n"
      ],
      "execution_count": 0,
      "outputs": []
    },
    {
      "cell_type": "code",
      "metadata": {
        "id": "i1EAsqz6t28L",
        "colab_type": "code",
        "outputId": "896ad82e-902b-416a-8e71-f14056c2be79",
        "colab": {
          "base_uri": "https://localhost:8080/",
          "height": 34
        }
      },
      "source": [
        "from google.colab import drive\n",
        "drive.mount('/drive')"
      ],
      "execution_count": 59,
      "outputs": [
        {
          "output_type": "stream",
          "text": [
            "Drive already mounted at /drive; to attempt to forcibly remount, call drive.mount(\"/drive\", force_remount=True).\n"
          ],
          "name": "stdout"
        }
      ]
    },
    {
      "cell_type": "code",
      "metadata": {
        "id": "7AVxkXbJjeO9",
        "colab_type": "code",
        "outputId": "23a83d41-c80b-4305-b6ac-650be07cdece",
        "colab": {
          "base_uri": "https://localhost:8080/",
          "height": 86
        }
      },
      "source": [
        "!ls '/drive/My Drive/Fusemachines Nepal/opencv'\n",
        "!cp '/drive/My Drive/Fusemachines Nepal/opencv/Train.tar.gz' ./\n",
        "\n",
        "!ls '/drive/My Drive/Fusemachines Nepal/opencv'\n",
        "!cp '/drive/My Drive/Fusemachines Nepal/opencv/Test.tar.gz' ./\n",
        "\n"
      ],
      "execution_count": 60,
      "outputs": [
        {
          "output_type": "stream",
          "text": [
            "DataDescription.docx  Test.tar.gz  Train.tar.gz     Untitled.ipynb\n",
            "test\t\t      train\t   Untitled0.ipynb\n",
            "DataDescription.docx  Test.tar.gz  Train.tar.gz     Untitled.ipynb\n",
            "test\t\t      train\t   Untitled0.ipynb\n"
          ],
          "name": "stdout"
        }
      ]
    },
    {
      "cell_type": "code",
      "metadata": {
        "id": "9HxaJqofkjKJ",
        "colab_type": "code",
        "outputId": "29bce669-7bed-4683-b1d7-1e790fe962d1",
        "colab": {
          "base_uri": "https://localhost:8080/",
          "height": 34
        }
      },
      "source": [
        "!uname"
      ],
      "execution_count": 61,
      "outputs": [
        {
          "output_type": "stream",
          "text": [
            "Linux\n"
          ],
          "name": "stdout"
        }
      ]
    },
    {
      "cell_type": "code",
      "metadata": {
        "id": "hvsUtvE1kpuX",
        "colab_type": "code",
        "outputId": "10c7074d-9f37-4d62-ec94-0d3862e27592",
        "colab": {
          "base_uri": "https://localhost:8080/",
          "height": 52
        }
      },
      "source": [
        "!mkdir train\n",
        "!mkdir test"
      ],
      "execution_count": 62,
      "outputs": [
        {
          "output_type": "stream",
          "text": [
            "mkdir: cannot create directory ‘train’: File exists\n",
            "mkdir: cannot create directory ‘test’: File exists\n"
          ],
          "name": "stdout"
        }
      ]
    },
    {
      "cell_type": "code",
      "metadata": {
        "id": "oiNmgg_rlnbB",
        "colab_type": "code",
        "colab": {}
      },
      "source": [
        "!tar -xf Test.tar.gz -C test/\n",
        "!tar -xf Train.tar.gz -C train//\n"
      ],
      "execution_count": 0,
      "outputs": []
    },
    {
      "cell_type": "code",
      "metadata": {
        "id": "wqIxIS9eqDyb",
        "colab_type": "code",
        "colab": {}
      },
      "source": [
        "\n",
        "df = pd.read_csv('./train/testset.csv')\n",
        "df_test = pd.read_csv('./test/testset.csv')\n"
      ],
      "execution_count": 0,
      "outputs": []
    },
    {
      "cell_type": "markdown",
      "metadata": {
        "id": "cENQjE3GqKLn",
        "colab_type": "text"
      },
      "source": [
        "# Data Analysis"
      ]
    },
    {
      "cell_type": "code",
      "metadata": {
        "id": "VIRISV3AqHpU",
        "colab_type": "code",
        "colab": {
          "base_uri": "https://localhost:8080/",
          "height": 295
        },
        "outputId": "e74e5ce7-593e-4a6a-ea5e-3be089ace3d2"
      },
      "source": [
        "t = df['Label']\n",
        "\n",
        "t.plot.hist(grid=True, bins=48, rwidth=0.9,\n",
        "                   color='#ff6361')\n",
        "plt.title('Frequency Plot ')\n",
        "plt.xlabel('Data')\n",
        "plt.ylabel('Frequency')\n",
        "plt.grid(axis='y', alpha=0.75)"
      ],
      "execution_count": 65,
      "outputs": [
        {
          "output_type": "display_data",
          "data": {
            "image/png": "[encoded data removed]",
            "text/plain": [
              "<Figure size 432x288 with 1 Axes>"
            ]
          },
          "metadata": {
            "tags": [],
            "needs_background": "light"
          }
        }
      ]
    },
    {
      "cell_type": "markdown",
      "metadata": {
        "id": "X6q-Cy6RrEX7",
        "colab_type": "text"
      },
      "source": [
        "## interpretation\n",
        "From above we can say that we have a balance dataset.\n",
        "\n"
      ]
    },
    {
      "cell_type": "markdown",
      "metadata": {
        "id": "5tR34SLurWma",
        "colab_type": "text"
      },
      "source": [
        "# Image Augumentation"
      ]
    },
    {
      "cell_type": "markdown",
      "metadata": {
        "id": "LAHPa4Narts6",
        "colab_type": "text"
      },
      "source": [
        "Image augmentation artificially creates training images through different ways of processing or combination of multiple processing, such as random rotation, shifts, shear and flips, etc."
      ]
    },
    {
      "cell_type": "code",
      "metadata": {
        "id": "1Z-tI_KPuEdS",
        "colab_type": "code",
        "outputId": "bbcf625f-debd-4d9a-f947-69603b30b7ff",
        "colab": {
          "base_uri": "https://localhost:8080/",
          "height": 52
        }
      },
      "source": [
        "\n",
        "train_datagen=ImageDataGenerator(preprocessing_function=lambda x: (x / 127.5)-1)\n",
        "\n",
        "df_test['Label'] = df_test['Label'].astype(str)\n",
        "df['Label'] = df['Label'].astype(str)\n",
        "train_generator = train_datagen.flow_from_dataframe(\n",
        "    df, directory='./train/testset', x_col='Data', y_col='Label',\n",
        "    target_size=(224, 224)\n",
        ")\n",
        "test_generator = train_datagen.flow_from_dataframe(\n",
        "    df_test, directory='./test/testset', x_col='Data', y_col='Label',\n",
        "    target_size=(224, 224)\n",
        ")\n"
      ],
      "execution_count": 67,
      "outputs": [
        {
          "output_type": "stream",
          "text": [
            "Found 9600 validated image filenames belonging to 48 classes.\n",
            "Found 2609 validated image filenames belonging to 48 classes.\n"
          ],
          "name": "stdout"
        }
      ]
    },
    {
      "cell_type": "markdown",
      "metadata": {
        "id": "qZwJzS23rktp",
        "colab_type": "text"
      },
      "source": [
        "# Transfar Learning\n",
        "\n",
        "MobileNetV2 to power the next generation of mobile vision applications.\n",
        " MobileNetV2 is released as part of TensorFlow-Slim Image Classification Library."
      ]
    },
    {
      "cell_type": "code",
      "metadata": {
        "id": "-snbNn5SvKQN",
        "colab_type": "code",
        "colab": {}
      },
      "source": [
        "base_model=MobileNetV2(input_shape=(224, 224, 3), include_top = False, weights = 'imagenet')"
      ],
      "execution_count": 0,
      "outputs": []
    },
    {
      "cell_type": "markdown",
      "metadata": {
        "id": "0805epWQsxDs",
        "colab_type": "text"
      },
      "source": [
        "# MobileNetV2 Convolutional Blocks\n",
        "\n",
        "\n",
        "\n",
        "![alt text](https://miro.medium.com/max/1400/1*bqE59FvgpvoAQUMQ0WEoUA.png)"
      ]
    },
    {
      "cell_type": "code",
      "metadata": {
        "id": "qcPE0HLMye4N",
        "colab_type": "code",
        "outputId": "9e1d2223-26d6-4356-c1d7-081313f26b80",
        "colab": {
          "base_uri": "https://localhost:8080/",
          "height": 34
        }
      },
      "source": [
        "feature_batch = base_model(train_generator[0])\n",
        "print(feature_batch.shape)"
      ],
      "execution_count": 69,
      "outputs": [
        {
          "output_type": "stream",
          "text": [
            "(32, 7, 7, 1280)\n"
          ],
          "name": "stdout"
        }
      ]
    },
    {
      "cell_type": "code",
      "metadata": {
        "id": "hgPA21nbyhdc",
        "colab_type": "code",
        "colab": {}
      },
      "source": [
        "base_model.trainable = False"
      ],
      "execution_count": 0,
      "outputs": []
    },
    {
      "cell_type": "code",
      "metadata": {
        "id": "TNtzIMz_yn5U",
        "colab_type": "code",
        "colab": {}
      },
      "source": [
        "global_average_layer = GlobalAveragePooling2D()\n"
      ],
      "execution_count": 0,
      "outputs": []
    },
    {
      "cell_type": "markdown",
      "metadata": {
        "id": "288gD50ctPw7",
        "colab_type": "text"
      },
      "source": [
        "## Prediction_layer"
      ]
    },
    {
      "cell_type": "code",
      "metadata": {
        "id": "mIDRc_NsysV6",
        "colab_type": "code",
        "colab": {}
      },
      "source": [
        "prediction_layer = Dense(48,activation ='softmax')"
      ],
      "execution_count": 0,
      "outputs": []
    },
    {
      "cell_type": "code",
      "metadata": {
        "id": "Z4XjX3bZyu2p",
        "colab_type": "code",
        "colab": {}
      },
      "source": [
        "model = Sequential([\n",
        "  base_model,\n",
        "  global_average_layer,\n",
        "  prediction_layer\n",
        "])"
      ],
      "execution_count": 0,
      "outputs": []
    },
    {
      "cell_type": "code",
      "metadata": {
        "id": "F6-9yWWByxkM",
        "colab_type": "code",
        "colab": {}
      },
      "source": [
        "model.compile(optimizer='adam',\n",
        "              loss='categorical_crossentropy',\n",
        "              metrics=['accuracy'])"
      ],
      "execution_count": 0,
      "outputs": []
    },
    {
      "cell_type": "code",
      "metadata": {
        "id": "G8odS1bQy0rH",
        "colab_type": "code",
        "outputId": "fcfb767d-bc72-427f-9051-8e559f434df4",
        "colab": {
          "base_uri": "https://localhost:8080/",
          "height": 260
        }
      },
      "source": [
        "model.summary()"
      ],
      "execution_count": 75,
      "outputs": [
        {
          "output_type": "stream",
          "text": [
            "Model: \"sequential_2\"\n",
            "_________________________________________________________________\n",
            "Layer (type)                 Output Shape              Param #   \n",
            "=================================================================\n",
            "mobilenetv2_1.00_224 (Model) (None, 7, 7, 1280)        2257984   \n",
            "_________________________________________________________________\n",
            "global_average_pooling2d_2 ( (None, 1280)              0         \n",
            "_________________________________________________________________\n",
            "dense_2 (Dense)              (None, 48)                61488     \n",
            "=================================================================\n",
            "Total params: 2,319,472\n",
            "Trainable params: 61,488\n",
            "Non-trainable params: 2,257,984\n",
            "_________________________________________________________________\n"
          ],
          "name": "stdout"
        }
      ]
    },
    {
      "cell_type": "code",
      "metadata": {
        "id": "0uypfR8cy62P",
        "colab_type": "code",
        "outputId": "6cb4a197-bcc5-45fb-b0e0-e7af792e5f42",
        "colab": {
          "base_uri": "https://localhost:8080/",
          "height": 729
        }
      },
      "source": [
        "model.fit(train_generator,epochs=20)"
      ],
      "execution_count": 76,
      "outputs": [
        {
          "output_type": "stream",
          "text": [
            "Epoch 1/20\n",
            "300/300 [==============================] - 42s 138ms/step - loss: 3.8746 - accuracy: 0.0452\n",
            "Epoch 2/20\n",
            "300/300 [==============================] - 42s 139ms/step - loss: 3.5857 - accuracy: 0.0977\n",
            "Epoch 3/20\n",
            "300/300 [==============================] - 41s 138ms/step - loss: 3.3743 - accuracy: 0.1550\n",
            "Epoch 4/20\n",
            "300/300 [==============================] - 42s 139ms/step - loss: 3.1733 - accuracy: 0.2120\n",
            "Epoch 5/20\n",
            "300/300 [==============================] - 42s 138ms/step - loss: 2.9977 - accuracy: 0.2675\n",
            "Epoch 6/20\n",
            "300/300 [==============================] - 42s 138ms/step - loss: 2.8425 - accuracy: 0.3156\n",
            "Epoch 7/20\n",
            "300/300 [==============================] - 42s 139ms/step - loss: 2.7090 - accuracy: 0.3504\n",
            "Epoch 8/20\n",
            "300/300 [==============================] - 43s 142ms/step - loss: 2.5852 - accuracy: 0.3696\n",
            "Epoch 9/20\n",
            "300/300 [==============================] - 42s 140ms/step - loss: 2.4712 - accuracy: 0.4149\n",
            "Epoch 10/20\n",
            "300/300 [==============================] - 42s 141ms/step - loss: 2.3660 - accuracy: 0.4525\n",
            "Epoch 11/20\n",
            "300/300 [==============================] - 42s 141ms/step - loss: 2.2778 - accuracy: 0.4689\n",
            "Epoch 12/20\n",
            "300/300 [==============================] - 42s 140ms/step - loss: 2.1825 - accuracy: 0.5024\n",
            "Epoch 13/20\n",
            "300/300 [==============================] - 43s 142ms/step - loss: 2.1057 - accuracy: 0.5274\n",
            "Epoch 14/20\n",
            "300/300 [==============================] - 43s 143ms/step - loss: 2.0295 - accuracy: 0.5460\n",
            "Epoch 15/20\n",
            "300/300 [==============================] - 42s 140ms/step - loss: 1.9656 - accuracy: 0.5670\n",
            "Epoch 16/20\n",
            "300/300 [==============================] - 42s 141ms/step - loss: 1.8924 - accuracy: 0.5852\n",
            "Epoch 17/20\n",
            "300/300 [==============================] - 42s 140ms/step - loss: 1.8334 - accuracy: 0.6032\n",
            "Epoch 18/20\n",
            "300/300 [==============================] - 42s 139ms/step - loss: 1.7795 - accuracy: 0.6182\n",
            "Epoch 19/20\n",
            "300/300 [==============================] - 42s 140ms/step - loss: 1.7243 - accuracy: 0.6253\n",
            "Epoch 20/20\n",
            "300/300 [==============================] - 42s 139ms/step - loss: 1.6735 - accuracy: 0.6423\n"
          ],
          "name": "stdout"
        },
        {
          "output_type": "execute_result",
          "data": {
            "text/plain": [
              "<tensorflow.python.keras.callbacks.History at 0x7fcf98158898>"
            ]
          },
          "metadata": {
            "tags": []
          },
          "execution_count": 76
        }
      ]
    },
    {
      "cell_type": "code",
      "metadata": {
        "id": "AoCqmk54XrCB",
        "colab_type": "code",
        "outputId": "5cad7fe0-ad45-46b7-e1eb-dbd84d9adf86",
        "colab": {
          "base_uri": "https://localhost:8080/",
          "height": 52
        }
      },
      "source": [
        "model.evaluate(test_generator)"
      ],
      "execution_count": 77,
      "outputs": [
        {
          "output_type": "stream",
          "text": [
            "82/82 [==============================] - 11s 137ms/step - loss: 1.6545 - accuracy: 0.6328\n"
          ],
          "name": "stdout"
        },
        {
          "output_type": "execute_result",
          "data": {
            "text/plain": [
              "[1.6545090675354004, 0.6328095197677612]"
            ]
          },
          "metadata": {
            "tags": []
          },
          "execution_count": 77
        }
      ]
    },
    {
      "cell_type": "code",
      "metadata": {
        "id": "M01-0kbMJBnN",
        "colab_type": "code",
        "colab": {}
      },
      "source": [
        "pred=model.predict(test_generator)"
      ],
      "execution_count": 0,
      "outputs": []
    },
    {
      "cell_type": "code",
      "metadata": {
        "id": "XOemdV2vyV5p",
        "colab_type": "code",
        "colab": {}
      },
      "source": [
        "import numpy as np\n",
        "\n",
        "predicted_class_indices=np.argmax(pred,axis=1)"
      ],
      "execution_count": 0,
      "outputs": []
    },
    {
      "cell_type": "code",
      "metadata": {
        "id": "YDxWBevxJJJg",
        "colab_type": "code",
        "colab": {}
      },
      "source": [
        "labels = (train_generator.class_indices)\n",
        "labels = dict((v,k) for k,v in labels.items())\n",
        "predictions = [labels[k] for k in predicted_class_indices]"
      ],
      "execution_count": 0,
      "outputs": []
    },
    {
      "cell_type": "code",
      "metadata": {
        "id": "wbjcEAijJNHl",
        "colab_type": "code",
        "colab": {}
      },
      "source": [
        "filenames=test_generator.filenames\n",
        "results=pd.DataFrame({\"Filename\":filenames,\n",
        "                      \"Predictions\":predictions})\n",
        "results.to_csv(\"results1.csv\",index=False)"
      ],
      "execution_count": 0,
      "outputs": []
    },
    {
      "cell_type": "code",
      "metadata": {
        "id": "f6IobjT2ye0i",
        "colab_type": "code",
        "colab": {
          "base_uri": "https://localhost:8080/",
          "height": 424
        },
        "outputId": "c7d31861-a619-46a4-8c5f-fd4ad59eaed1"
      },
      "source": [
        "pd.read_csv('./results1.csv')"
      ],
      "execution_count": 86,
      "outputs": [
        {
          "output_type": "execute_result",
          "data": {
            "text/html": [
              "<div>\n",
              "<style scoped>\n",
              "    .dataframe tbody tr th:only-of-type {\n",
              "        vertical-align: middle;\n",
              "    }\n",
              "\n",
              "    .dataframe tbody tr th {\n",
              "        vertical-align: top;\n",
              "    }\n",
              "\n",
              "    .dataframe thead th {\n",
              "        text-align: right;\n",
              "    }\n",
              "</style>\n",
              "<table border=\"1\" class=\"dataframe\">\n",
              "  <thead>\n",
              "    <tr style=\"text-align: right;\">\n",
              "      <th></th>\n",
              "      <th>Filename</th>\n",
              "      <th>Predictions</th>\n",
              "    </tr>\n",
              "  </thead>\n",
              "  <tbody>\n",
              "    <tr>\n",
              "      <th>0</th>\n",
              "      <td>632755.jpeg</td>\n",
              "      <td>16</td>\n",
              "    </tr>\n",
              "    <tr>\n",
              "      <th>1</th>\n",
              "      <td>496855.jpeg</td>\n",
              "      <td>19</td>\n",
              "    </tr>\n",
              "    <tr>\n",
              "      <th>2</th>\n",
              "      <td>155390.jpeg</td>\n",
              "      <td>32</td>\n",
              "    </tr>\n",
              "    <tr>\n",
              "      <th>3</th>\n",
              "      <td>265013.jpeg</td>\n",
              "      <td>3</td>\n",
              "    </tr>\n",
              "    <tr>\n",
              "      <th>4</th>\n",
              "      <td>496360.jpeg</td>\n",
              "      <td>16</td>\n",
              "    </tr>\n",
              "    <tr>\n",
              "      <th>...</th>\n",
              "      <td>...</td>\n",
              "      <td>...</td>\n",
              "    </tr>\n",
              "    <tr>\n",
              "      <th>2604</th>\n",
              "      <td>542827.jpeg</td>\n",
              "      <td>23</td>\n",
              "    </tr>\n",
              "    <tr>\n",
              "      <th>2605</th>\n",
              "      <td>962019.jpeg</td>\n",
              "      <td>31</td>\n",
              "    </tr>\n",
              "    <tr>\n",
              "      <th>2606</th>\n",
              "      <td>518649.jpeg</td>\n",
              "      <td>47</td>\n",
              "    </tr>\n",
              "    <tr>\n",
              "      <th>2607</th>\n",
              "      <td>299155.jpeg</td>\n",
              "      <td>16</td>\n",
              "    </tr>\n",
              "    <tr>\n",
              "      <th>2608</th>\n",
              "      <td>360063.jpeg</td>\n",
              "      <td>23</td>\n",
              "    </tr>\n",
              "  </tbody>\n",
              "</table>\n",
              "<p>2609 rows × 2 columns</p>\n",
              "</div>"
            ],
            "text/plain": [
              "         Filename  Predictions\n",
              "0     632755.jpeg           16\n",
              "1     496855.jpeg           19\n",
              "2     155390.jpeg           32\n",
              "3     265013.jpeg            3\n",
              "4     496360.jpeg           16\n",
              "...           ...          ...\n",
              "2604  542827.jpeg           23\n",
              "2605  962019.jpeg           31\n",
              "2606  518649.jpeg           47\n",
              "2607  299155.jpeg           16\n",
              "2608  360063.jpeg           23\n",
              "\n",
              "[2609 rows x 2 columns]"
            ]
          },
          "metadata": {
            "tags": []
          },
          "execution_count": 86
        }
      ]
    }
  ]
}